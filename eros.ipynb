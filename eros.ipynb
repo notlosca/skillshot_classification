{
 "cells": [
  {
   "cell_type": "code",
   "execution_count": 1,
   "metadata": {},
   "outputs": [],
   "source": [
    "import pandas as pd\n",
    "import numpy as np\n",
    "import utils"
   ]
  },
  {
   "cell_type": "code",
   "execution_count": 2,
   "metadata": {},
   "outputs": [],
   "source": [
    "df = pd.read_json(\"data_no_bool.json\").T"
   ]
  },
  {
   "cell_type": "code",
   "execution_count": 3,
   "metadata": {},
   "outputs": [
    {
     "data": {
      "text/html": [
       "<div>\n",
       "<style scoped>\n",
       "    .dataframe tbody tr th:only-of-type {\n",
       "        vertical-align: middle;\n",
       "    }\n",
       "\n",
       "    .dataframe tbody tr th {\n",
       "        vertical-align: top;\n",
       "    }\n",
       "\n",
       "    .dataframe thead th {\n",
       "        text-align: right;\n",
       "    }\n",
       "</style>\n",
       "<table border=\"1\" class=\"dataframe\">\n",
       "  <thead>\n",
       "    <tr style=\"text-align: right;\">\n",
       "      <th></th>\n",
       "      <th>label</th>\n",
       "      <th>time_series</th>\n",
       "    </tr>\n",
       "  </thead>\n",
       "  <tbody>\n",
       "    <tr>\n",
       "      <th>0</th>\n",
       "      <td>6</td>\n",
       "      <td>[{'BallAcceleration': 1636.7987723122642, 'Dis...</td>\n",
       "    </tr>\n",
       "    <tr>\n",
       "      <th>1</th>\n",
       "      <td>-1</td>\n",
       "      <td>[{'BallAcceleration': 0.0, 'DistanceWall': 39....</td>\n",
       "    </tr>\n",
       "    <tr>\n",
       "      <th>2</th>\n",
       "      <td>-1</td>\n",
       "      <td>[{'BallAcceleration': 124246.29375405672, 'Dis...</td>\n",
       "    </tr>\n",
       "    <tr>\n",
       "      <th>3</th>\n",
       "      <td>-1</td>\n",
       "      <td>[{'BallAcceleration': -8210.634011562943, 'Dis...</td>\n",
       "    </tr>\n",
       "    <tr>\n",
       "      <th>4</th>\n",
       "      <td>-1</td>\n",
       "      <td>[{'BallAcceleration': 1197.5360615055833, 'Dis...</td>\n",
       "    </tr>\n",
       "  </tbody>\n",
       "</table>\n",
       "</div>"
      ],
      "text/plain": [
       "  label                                        time_series\n",
       "0     6  [{'BallAcceleration': 1636.7987723122642, 'Dis...\n",
       "1    -1  [{'BallAcceleration': 0.0, 'DistanceWall': 39....\n",
       "2    -1  [{'BallAcceleration': 124246.29375405672, 'Dis...\n",
       "3    -1  [{'BallAcceleration': -8210.634011562943, 'Dis...\n",
       "4    -1  [{'BallAcceleration': 1197.5360615055833, 'Dis..."
      ]
     },
     "execution_count": 3,
     "metadata": {},
     "output_type": "execute_result"
    }
   ],
   "source": [
    "df.head()"
   ]
  },
  {
   "cell_type": "code",
   "execution_count": 4,
   "metadata": {},
   "outputs": [
    {
     "data": {
      "text/html": [
       "<div>\n",
       "<style scoped>\n",
       "    .dataframe tbody tr th:only-of-type {\n",
       "        vertical-align: middle;\n",
       "    }\n",
       "\n",
       "    .dataframe tbody tr th {\n",
       "        vertical-align: top;\n",
       "    }\n",
       "\n",
       "    .dataframe thead th {\n",
       "        text-align: right;\n",
       "    }\n",
       "</style>\n",
       "<table border=\"1\" class=\"dataframe\">\n",
       "  <thead>\n",
       "    <tr style=\"text-align: right;\">\n",
       "      <th></th>\n",
       "      <th>label</th>\n",
       "      <th>time_series</th>\n",
       "      <th>shape</th>\n",
       "    </tr>\n",
       "  </thead>\n",
       "  <tbody>\n",
       "    <tr>\n",
       "      <th>0</th>\n",
       "      <td>6</td>\n",
       "      <td>[[1636.7987723122642, 3498.01, 2012.98, 299.66...</td>\n",
       "      <td>(32, 17)</td>\n",
       "    </tr>\n",
       "    <tr>\n",
       "      <th>1</th>\n",
       "      <td>-1</td>\n",
       "      <td>[[0.0, 39.7800000000002, 1704.5, 193.421147499...</td>\n",
       "      <td>(39, 17)</td>\n",
       "    </tr>\n",
       "    <tr>\n",
       "      <th>2</th>\n",
       "      <td>-1</td>\n",
       "      <td>[[124246.29375405672, 35.48999999999978, 1450....</td>\n",
       "      <td>(34, 17)</td>\n",
       "    </tr>\n",
       "    <tr>\n",
       "      <th>3</th>\n",
       "      <td>-1</td>\n",
       "      <td>[[-8210.634011562943, 36.0, 1036.28, 579.43975...</td>\n",
       "      <td>(23, 17)</td>\n",
       "    </tr>\n",
       "    <tr>\n",
       "      <th>4</th>\n",
       "      <td>-1</td>\n",
       "      <td>[[1197.5360615055833, 3975.02, 2013.04, 142.93...</td>\n",
       "      <td>(22, 17)</td>\n",
       "    </tr>\n",
       "  </tbody>\n",
       "</table>\n",
       "</div>"
      ],
      "text/plain": [
       "  label                                        time_series     shape\n",
       "0     6  [[1636.7987723122642, 3498.01, 2012.98, 299.66...  (32, 17)\n",
       "1    -1  [[0.0, 39.7800000000002, 1704.5, 193.421147499...  (39, 17)\n",
       "2    -1  [[124246.29375405672, 35.48999999999978, 1450....  (34, 17)\n",
       "3    -1  [[-8210.634011562943, 36.0, 1036.28, 579.43975...  (23, 17)\n",
       "4    -1  [[1197.5360615055833, 3975.02, 2013.04, 142.93...  (22, 17)"
      ]
     },
     "execution_count": 4,
     "metadata": {},
     "output_type": "execute_result"
    }
   ],
   "source": [
    "df.time_series = df.time_series.apply(utils.extract_matrix)\n",
    "df['shape'] = df.time_series.apply(lambda x: x.shape)\n",
    "df.head()"
   ]
  },
  {
   "cell_type": "code",
   "execution_count": 5,
   "metadata": {},
   "outputs": [],
   "source": [
    "S, v_t_list = utils.compute_S_matrix(df.time_series)"
   ]
  },
  {
   "cell_type": "code",
   "execution_count": 6,
   "metadata": {},
   "outputs": [
    {
     "data": {
      "text/plain": [
       "array([7.33901974e-01, 2.11399585e-01, 5.46184777e-02, 6.73521064e-05,\n",
       "       1.01007818e-05, 2.51086069e-06, 2.46274980e-11, 1.48000471e-11,\n",
       "       9.75667933e-12, 6.57018216e-12, 4.07295441e-12, 2.01973052e-12,\n",
       "       8.18530946e-13, 2.46108301e-13, 7.03280356e-14, 2.61036403e-14,\n",
       "       5.54693561e-15])"
      ]
     },
     "execution_count": 6,
     "metadata": {},
     "output_type": "execute_result"
    }
   ],
   "source": [
    "w = utils.compute_weight_vector(S, aggregation='mean', algorithm='1')\n",
    "w"
   ]
  },
  {
   "cell_type": "markdown",
   "metadata": {},
   "source": [
    "Eros norm:\n",
    "$$\n",
    "EROS(\\mathbf{A,B},w) = \\sum_{i=1}^n w_i\\cdot|<a_i,b_i>|\n",
    "$$"
   ]
  },
  {
   "cell_type": "code",
   "execution_count": 7,
   "metadata": {},
   "outputs": [
    {
     "data": {
      "text/plain": [
       "0.9999999999999998"
      ]
     },
     "execution_count": 7,
     "metadata": {},
     "output_type": "execute_result"
    }
   ],
   "source": [
    "eros = utils.eros_norm(w, A=v_t_list[0], B=v_t_list[0])\n",
    "eros"
   ]
  },
  {
   "cell_type": "code",
   "execution_count": 8,
   "metadata": {},
   "outputs": [],
   "source": [
    "K_eros = utils.compute_kernel_matrix(len(df), weight_vector=w, v_t_list=v_t_list)"
   ]
  },
  {
   "cell_type": "code",
   "execution_count": 9,
   "metadata": {},
   "outputs": [
    {
     "data": {
      "text/plain": [
       "True"
      ]
     },
     "execution_count": 9,
     "metadata": {},
     "output_type": "execute_result"
    }
   ],
   "source": [
    "K_eros[0,1] == K_eros[1,0]"
   ]
  },
  {
   "cell_type": "code",
   "execution_count": 10,
   "metadata": {},
   "outputs": [],
   "source": [
    "eig_vecs = utils.perform_PCA(len(df), weight_vector=w, v_t_list=v_t_list)"
   ]
  },
  {
   "cell_type": "code",
   "execution_count": 11,
   "metadata": {},
   "outputs": [],
   "source": [
    "df = pd.read_json(\"data_no_bool.json\").T\n",
    "df.head()\n",
    "\n",
    "#from sklearn.utils import shuffle\n",
    "import sklearn as sk\n",
    "from sklearn.model_selection import train_test_split\n",
    "seed = 0\n",
    "\n",
    "# Shuffle the dataframe\n",
    "shuffled_df = sk.utils.shuffle(df, random_state=seed)\n",
    "shuffled_df.head()\n",
    "\n",
    "from utils import extract_matrix\n",
    "# Create the matrix version\n",
    "shuffled_df.time_series = shuffled_df.time_series.apply(extract_matrix)\n",
    "shuffled_df[\"shape\"] = shuffled_df.time_series.apply(lambda x: x.shape)\n",
    "shuffled_df.head()\n",
    "\n",
    "X_train, X_test, y_train, y_test = train_test_split(shuffled_df['time_series'], shuffled_df['label'], train_size=.75, random_state=seed)"
   ]
  },
  {
   "cell_type": "code",
   "execution_count": 12,
   "metadata": {},
   "outputs": [],
   "source": [
    "S, v_t_list_train = utils.compute_S_matrix(X_train)"
   ]
  },
  {
   "cell_type": "code",
   "execution_count": 13,
   "metadata": {},
   "outputs": [],
   "source": [
    "_, v_t_list_test = utils.compute_S_matrix(X_test)"
   ]
  },
  {
   "cell_type": "code",
   "execution_count": 14,
   "metadata": {},
   "outputs": [],
   "source": [
    "K_eros_train = utils.compute_kernel_matrix(len(X_train), weight_vector=w, v_t_list=v_t_list_train)\n",
    "V = utils.perform_PCA(len(X_train), weight_vector=w, v_t_list=v_t_list_train)\n",
    "\n",
    "K_eros_test = utils.compute_test_kernel_matrix(len(X_train), len(X_test), w, v_t_list_train, v_t_list_test)"
   ]
  },
  {
   "cell_type": "code",
   "execution_count": 15,
   "metadata": {},
   "outputs": [],
   "source": [
    "N_test = len(X_test)\n",
    "N_train = len(X_train)\n",
    "O_test = np.ones(shape=(N_test, N_train))*(1/N_train)\n",
    "O_train = np.ones(shape=(N_train, N_train))*(1/N_train)\n",
    "\n",
    "K_eros_test_mc = K_eros_test - O_test@K_eros_train - K_eros_test@O_train + O_test@K_eros_train@O_train\n",
    "\n",
    "Y = K_eros_test_mc @ V"
   ]
  },
  {
   "cell_type": "markdown",
   "metadata": {},
   "source": [
    "the $i$-th MTS item in the test set is represented as features (length = num examples in the training set) in the $i$-th row of $\\mathbf{Y}$"
   ]
  },
  {
   "cell_type": "code",
   "execution_count": 16,
   "metadata": {},
   "outputs": [
    {
     "data": {
      "text/plain": [
       "(75, 223)"
      ]
     },
     "execution_count": 16,
     "metadata": {},
     "output_type": "execute_result"
    }
   ],
   "source": [
    "Y.shape"
   ]
  },
  {
   "cell_type": "code",
   "execution_count": 17,
   "metadata": {},
   "outputs": [
    {
     "data": {
      "text/plain": [
       "array([[ 1.24680009e+00, -1.27473153e+00,  1.60465999e+00, ...,\n",
       "        -3.92937611e-03,  3.92455922e-03,  1.26002191e-03],\n",
       "       [-2.72291846e+00, -5.85372969e-01, -2.98740898e-01, ...,\n",
       "        -3.19158956e-04, -8.21647680e-04, -4.86970189e-04],\n",
       "       [-2.70571600e-01,  2.99148236e-01, -1.72580986e+00, ...,\n",
       "         3.57826704e-04,  2.98196470e-03, -4.27097760e-03],\n",
       "       ...,\n",
       "       [ 1.80098641e+00, -1.55540764e+00, -2.17269400e+00, ...,\n",
       "         1.33004254e-03,  5.35847323e-04, -3.31968017e-03],\n",
       "       [-1.27804529e+00,  3.92497578e-01, -1.18415776e+00, ...,\n",
       "         1.04530652e-03, -4.13398668e-03,  1.61742561e-03],\n",
       "       [ 1.64495238e+00, -5.22117689e-01, -2.54705714e+00, ...,\n",
       "         2.48748935e-03, -1.86290432e-02,  9.13825104e-03]])"
      ]
     },
     "execution_count": 17,
     "metadata": {},
     "output_type": "execute_result"
    }
   ],
   "source": [
    "Y"
   ]
  },
  {
   "cell_type": "code",
   "execution_count": null,
   "metadata": {},
   "outputs": [],
   "source": []
  }
 ],
 "metadata": {
  "kernelspec": {
   "display_name": "Python 3.9.12 ('data_science')",
   "language": "python",
   "name": "python3"
  },
  "language_info": {
   "codemirror_mode": {
    "name": "ipython",
    "version": 3
   },
   "file_extension": ".py",
   "mimetype": "text/x-python",
   "name": "python",
   "nbconvert_exporter": "python",
   "pygments_lexer": "ipython3",
   "version": "3.9.12"
  },
  "orig_nbformat": 4,
  "vscode": {
   "interpreter": {
    "hash": "391ddcc66a8b67209ee4ca14a5da0cf1073041a687facbd61882e6753a3822ab"
   }
  }
 },
 "nbformat": 4,
 "nbformat_minor": 2
}
