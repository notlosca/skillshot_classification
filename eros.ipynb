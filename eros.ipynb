{
 "cells": [
  {
   "cell_type": "code",
   "execution_count": 2,
   "metadata": {},
   "outputs": [],
   "source": [
    "import pandas as pd\n",
    "import numpy as np\n",
    "from utils import extract_matrix"
   ]
  },
  {
   "cell_type": "code",
   "execution_count": 3,
   "metadata": {},
   "outputs": [],
   "source": [
    "df = pd.read_json(\"data_no_bool.json\").T"
   ]
  },
  {
   "cell_type": "code",
   "execution_count": 5,
   "metadata": {},
   "outputs": [
    {
     "data": {
      "text/html": [
       "<div>\n",
       "<style scoped>\n",
       "    .dataframe tbody tr th:only-of-type {\n",
       "        vertical-align: middle;\n",
       "    }\n",
       "\n",
       "    .dataframe tbody tr th {\n",
       "        vertical-align: top;\n",
       "    }\n",
       "\n",
       "    .dataframe thead th {\n",
       "        text-align: right;\n",
       "    }\n",
       "</style>\n",
       "<table border=\"1\" class=\"dataframe\">\n",
       "  <thead>\n",
       "    <tr style=\"text-align: right;\">\n",
       "      <th></th>\n",
       "      <th>label</th>\n",
       "      <th>time_series</th>\n",
       "    </tr>\n",
       "  </thead>\n",
       "  <tbody>\n",
       "    <tr>\n",
       "      <th>0</th>\n",
       "      <td>6</td>\n",
       "      <td>[{'BallAcceleration': 1636.7987723122642, 'Dis...</td>\n",
       "    </tr>\n",
       "    <tr>\n",
       "      <th>1</th>\n",
       "      <td>-1</td>\n",
       "      <td>[{'BallAcceleration': 0.0, 'DistanceWall': 39....</td>\n",
       "    </tr>\n",
       "    <tr>\n",
       "      <th>2</th>\n",
       "      <td>-1</td>\n",
       "      <td>[{'BallAcceleration': 124246.29375405672, 'Dis...</td>\n",
       "    </tr>\n",
       "    <tr>\n",
       "      <th>3</th>\n",
       "      <td>-1</td>\n",
       "      <td>[{'BallAcceleration': -8210.634011562943, 'Dis...</td>\n",
       "    </tr>\n",
       "    <tr>\n",
       "      <th>4</th>\n",
       "      <td>-1</td>\n",
       "      <td>[{'BallAcceleration': 1197.5360615055833, 'Dis...</td>\n",
       "    </tr>\n",
       "  </tbody>\n",
       "</table>\n",
       "</div>"
      ],
      "text/plain": [
       "  label                                        time_series\n",
       "0     6  [{'BallAcceleration': 1636.7987723122642, 'Dis...\n",
       "1    -1  [{'BallAcceleration': 0.0, 'DistanceWall': 39....\n",
       "2    -1  [{'BallAcceleration': 124246.29375405672, 'Dis...\n",
       "3    -1  [{'BallAcceleration': -8210.634011562943, 'Dis...\n",
       "4    -1  [{'BallAcceleration': 1197.5360615055833, 'Dis..."
      ]
     },
     "execution_count": 5,
     "metadata": {},
     "output_type": "execute_result"
    }
   ],
   "source": [
    "df.head()"
   ]
  },
  {
   "cell_type": "code",
   "execution_count": 6,
   "metadata": {},
   "outputs": [
    {
     "data": {
      "text/plain": [
       "0      [[1636.7987723122642, 3498.01, 2012.98, 299.66...\n",
       "1      [[0.0, 39.7800000000002, 1704.5, 193.421147499...\n",
       "2      [[124246.29375405672, 35.48999999999978, 1450....\n",
       "3      [[-8210.634011562943, 36.0, 1036.28, 579.43975...\n",
       "4      [[1197.5360615055833, 3975.02, 2013.04, 142.93...\n",
       "                             ...                        \n",
       "293    [[0.0, 2499.8900000000003, 2012.99, 2269.85802...\n",
       "294    [[-4128.513654621303, 62170.1262183052, 1216.1...\n",
       "295    [[0.0, 1606.3200000000002, 1911.36, 3064.80797...\n",
       "296    [[0.0, 0.0, 2053.85, 2012.99, 4797.23569253169...\n",
       "297    [[0.0, 1937.17, 1898.67, 5470.009844067925, 22...\n",
       "Name: time_series, Length: 298, dtype: object"
      ]
     },
     "execution_count": 6,
     "metadata": {},
     "output_type": "execute_result"
    }
   ],
   "source": [
    "df.time_series.apply(extract_matrix)"
   ]
  },
  {
   "cell_type": "code",
   "execution_count": 7,
   "metadata": {},
   "outputs": [
    {
     "data": {
      "text/html": [
       "<div>\n",
       "<style scoped>\n",
       "    .dataframe tbody tr th:only-of-type {\n",
       "        vertical-align: middle;\n",
       "    }\n",
       "\n",
       "    .dataframe tbody tr th {\n",
       "        vertical-align: top;\n",
       "    }\n",
       "\n",
       "    .dataframe thead th {\n",
       "        text-align: right;\n",
       "    }\n",
       "</style>\n",
       "<table border=\"1\" class=\"dataframe\">\n",
       "  <thead>\n",
       "    <tr style=\"text-align: right;\">\n",
       "      <th></th>\n",
       "      <th>label</th>\n",
       "      <th>time_series</th>\n",
       "      <th>shape</th>\n",
       "    </tr>\n",
       "  </thead>\n",
       "  <tbody>\n",
       "    <tr>\n",
       "      <th>0</th>\n",
       "      <td>6</td>\n",
       "      <td>[[1636.7987723122642, 3498.01, 2012.98, 299.66...</td>\n",
       "      <td>(32, 17)</td>\n",
       "    </tr>\n",
       "    <tr>\n",
       "      <th>1</th>\n",
       "      <td>-1</td>\n",
       "      <td>[[0.0, 39.7800000000002, 1704.5, 193.421147499...</td>\n",
       "      <td>(39, 17)</td>\n",
       "    </tr>\n",
       "    <tr>\n",
       "      <th>2</th>\n",
       "      <td>-1</td>\n",
       "      <td>[[124246.29375405672, 35.48999999999978, 1450....</td>\n",
       "      <td>(34, 17)</td>\n",
       "    </tr>\n",
       "    <tr>\n",
       "      <th>3</th>\n",
       "      <td>-1</td>\n",
       "      <td>[[-8210.634011562943, 36.0, 1036.28, 579.43975...</td>\n",
       "      <td>(23, 17)</td>\n",
       "    </tr>\n",
       "    <tr>\n",
       "      <th>4</th>\n",
       "      <td>-1</td>\n",
       "      <td>[[1197.5360615055833, 3975.02, 2013.04, 142.93...</td>\n",
       "      <td>(22, 17)</td>\n",
       "    </tr>\n",
       "  </tbody>\n",
       "</table>\n",
       "</div>"
      ],
      "text/plain": [
       "  label                                        time_series     shape\n",
       "0     6  [[1636.7987723122642, 3498.01, 2012.98, 299.66...  (32, 17)\n",
       "1    -1  [[0.0, 39.7800000000002, 1704.5, 193.421147499...  (39, 17)\n",
       "2    -1  [[124246.29375405672, 35.48999999999978, 1450....  (34, 17)\n",
       "3    -1  [[-8210.634011562943, 36.0, 1036.28, 579.43975...  (23, 17)\n",
       "4    -1  [[1197.5360615055833, 3975.02, 2013.04, 142.93...  (22, 17)"
      ]
     },
     "execution_count": 7,
     "metadata": {},
     "output_type": "execute_result"
    }
   ],
   "source": [
    "df.time_series = df.time_series.apply(extract_matrix)\n",
    "df['shape'] = df.time_series.apply(lambda x: x.shape)\n",
    "df.head()"
   ]
  },
  {
   "cell_type": "code",
   "execution_count": null,
   "metadata": {},
   "outputs": [],
   "source": []
  }
 ],
 "metadata": {
  "kernelspec": {
   "display_name": "Python 3.9.12 ('data_science')",
   "language": "python",
   "name": "python3"
  },
  "language_info": {
   "codemirror_mode": {
    "name": "ipython",
    "version": 3
   },
   "file_extension": ".py",
   "mimetype": "text/x-python",
   "name": "python",
   "nbconvert_exporter": "python",
   "pygments_lexer": "ipython3",
   "version": "3.9.12"
  },
  "orig_nbformat": 4,
  "vscode": {
   "interpreter": {
    "hash": "391ddcc66a8b67209ee4ca14a5da0cf1073041a687facbd61882e6753a3822ab"
   }
  }
 },
 "nbformat": 4,
 "nbformat_minor": 2
}
